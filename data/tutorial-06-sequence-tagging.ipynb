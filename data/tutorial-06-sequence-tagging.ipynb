{
 "cells": [
  {
   "cell_type": "markdown",
   "metadata": {},
   "source": [
    "This notebook is based on the ktrain [tutorial-06-sequence-tagging](https://github.com/amaiya/ktrain/blob/master/tutorials/tutorial-06-sequence-tagging.ipynb) notebook."
   ]
  },
  {
   "cell_type": "code",
   "execution_count": 4,
   "metadata": {},
   "outputs": [],
   "source": [
    "%reload_ext autoreload\n",
    "%autoreload 2\n",
    "%matplotlib inline\n",
    "import os\n",
    "os.environ[\"CUDA_DEVICE_ORDER\"]=\"PCI_BUS_ID\";\n",
    "os.environ[\"CUDA_VISIbBLE_DEVICES\"]=\"0\"; "
   ]
  },
  {
   "cell_type": "markdown",
   "metadata": {},
   "source": [
    "*ktrain* uses TensorFlow 2.  To support sequence-tagging, *ktrain* also currently uses the CRF module from `keras_contrib`, which is not yet fully compatible with TensorFlow 2.\n",
    "To use the BiLSTM-CRF model (which currently requires `keras_contrib`) for sequence-tagging in *ktrain*, you must disable V2 behavior in  TensorFlow 2\n",
    "by adding the following line to the top of your notebook or script **before** importing *ktrain*:\n",
    "```python\n",
    "import os\n",
    "os.environ['DISABLE_V2_BEHAVIOR'] = '1'\n",
    "```\n",
    "Since we are employing a CRF layer in this notebook, we will set this value here:"
   ]
  },
  {
   "cell_type": "code",
   "execution_count": 6,
   "metadata": {},
   "outputs": [],
   "source": [
    "import ktrain\n",
    "from ktrain import text"
   ]
  },
  {
   "cell_type": "markdown",
   "metadata": {},
   "source": [
    "# Sequence Tagging\n",
    "\n",
    "Sequence tagging (or sequence labeling) involves classifying words or sequences of words as representing some category or concept of interest.  One example of sequence tagging is Named Entity Recognition (NER), where we classify words or sequences of words that identify some entity such as a person, organization, or location.  In this tutorial, we will show how to use *ktrain* to perform sequence tagging in three simple steps.\n",
    "\n",
    "## STEP 1: Load and Preprocess Data\n",
    "\n",
    "The `entities_from_txt` function can be used to load tagged sentences from a text file.  The text file can be in one of two different formats: 1) the [CoNLL2003 format](https://www.aclweb.org/anthology/W03-0419) or 2) the [Groningen Meaning Bank (GMB) format](https://www.kaggle.com/abhinavwalia95/entity-annotated-corpus). In both formats, there is one word and its associated tag on each line (where the word and tag are delimited by a space, tab or comma).  Words are ordered as they appear in the sentence.  In the CoNLL2003 format, there is a blank line that delineates sentences.  In the GMB format, there is a third column for Sentence ID that assignes a number to each row indicating the sentence to which the word belongs.  If you are building a sequence tagger for your own use case with the `entities_from_txt` function, the training data should be formatted into one of these two formats. Alternatively, one can use the `entities_from_aray` function which simply expects arrays of the following form:\n",
    "```python\n",
    "x_train = [['Hello', 'world', '!'], ['Hello', 'Barack', 'Obama'], ['I', 'love', 'Chicago']]\n",
    "y_train = [['O', 'O', 'O'], ['O', 'B-PER', 'I-PER'], ['O', 'O', 'B-LOC']]\n",
    "```\n",
    "Note that the tags in this example follow the [IOB2 format](https://en.wikipedia.org/wiki/Inside%E2%80%93outside%E2%80%93beginning_(tagging)).\n",
    "\n",
    "In this notebook, we will be using `entities_from_txt`  and build a sequence tagger using the Groningen Meaning Bank NER dataset available on Kaggle [here](https://www.kaggle.com/abhinavwalia95/entity-annotated-corpus). The format essentially looks like this (with fields being delimited by comma):\n",
    "```\n",
    "      SentenceID   Word     Tag    \n",
    "      1            Paul     B-PER\n",
    "      1            Newman   I-PER\n",
    "      1            is       O\n",
    "      1            a        O\n",
    "      1            great    O\n",
    "      1            actor    O\n",
    "      1            .        O\n",
    " ```\n",
    "\n",
    "We will be using the file `ner_dataset.csv` (which conforms to the format above) and will load and preprocess it using the `entities_from_txt` function.  The output is simlar to data-loading functions used in previous tutorials and includes the processed training set, processed validaton set, and an instance of `NERPreprocessor`.  \n",
    "\n",
    "The Kaggle dataset `ner_dataset.csv` the three columns of interest (mentioned above) are labeled 'Sentence #', 'Word', and 'Tag'.  Thus, we specify these in the call to the function."
   ]
  },
  {
   "cell_type": "markdown",
   "metadata": {},
   "source": [
    "### Questions regarding text.entities_from_text\n",
    "\n",
    "Inputs\n",
    "* use_char - If True, data will be preprocessed to use character embeddings in addition to word embeddings\n",
    "  * The version of TF2 that we use has a bug that prevents from using character encodings. Is this helping to improve the learning process?"
   ]
  },
  {
   "cell_type": "code",
   "execution_count": 7,
   "metadata": {},
   "outputs": [
    {
     "name": "stdout",
     "output_type": "stream",
     "text": [
      "detected encoding: utf-8 (if wrong, set manually)\n",
      "Number of sentences:  2901\n",
      "Number of words in the dataset:  3222\n",
      "Tags: ['I-component', 'O', 'B-component', 'B-null']\n",
      "Number of Labels:  4\n",
      "Longest sentence: 93 words\n"
     ]
    }
   ],
   "source": [
    "DATAFILE = 'c:/Users/kostobog/Documents/skola/projects/2019-msmt-inter-excelence/partners/nlp-corpus/components-for-ner.csv'\n",
    "(trn, val, preproc) = text.entities_from_txt(DATAFILE,\n",
    "                                             sentence_column='Sentence #',\n",
    "                                             word_column='Word',\n",
    "                                             tag_column='Tag', \n",
    "                                             data_format='gmb',\n",
    "                                             use_char=True,\n",
    "                                             val_pct=0.1\n",
    "                                            )"
   ]
  },
  {
   "cell_type": "code",
   "execution_count": 8,
   "metadata": {},
   "outputs": [
    {
     "data": {
      "text/plain": [
       "2610"
      ]
     },
     "execution_count": 8,
     "metadata": {},
     "output_type": "execute_result"
    }
   ],
   "source": [
    "# trn.xshape()\n",
    "trn.nsamples()\n",
    "# val.nsamples()"
   ]
  },
  {
   "cell_type": "markdown",
   "metadata": {},
   "source": [
    "When loading the dataset above, we specify `use_char=True` to instruct *ktrain* to extract the character vocabulary to be used in a character embedding layer of a model."
   ]
  },
  {
   "cell_type": "markdown",
   "metadata": {},
   "source": [
    "## STEP 2:  Define a Model\n",
    "\n",
    "The `print_sequence_taggers` function shows that, as of this writing, *ktrain* currently supports both Bidirectional LSTM-CRM and Bidirectional LSTM as base models for sequence tagging. Theses base models can be used with different embedding schemes.\n",
    "\n",
    "For instance, the `bilstm-bert` model employs [BERT word embeddings](https://arxiv.org/abs/1810.04805) as features for a Bidirectional LSTM. See [this notebook](https://github.com/amaiya/ktrain/blob/master/examples/text/CoNLL2002_Dutch-BiLSTM.ipynb) for an example of `bilstm-bert`.  In this tutorial, we will use a Bidirectional LSTM model with a CRF layer. "
   ]
  },
  {
   "cell_type": "code",
   "execution_count": 9,
   "metadata": {},
   "outputs": [
    {
     "name": "stdout",
     "output_type": "stream",
     "text": [
      "bilstm: Bidirectional LSTM (https://arxiv.org/abs/1603.01360)\n",
      "bilstm-bert: Bidirectional LSTM w/ BERT embeddings\n",
      "bilstm-crf: Bidirectional LSTM-CRF  (https://arxiv.org/abs/1603.01360)\n",
      "bilstm-elmo: Bidirectional LSTM w/ Elmo embeddings [English only]\n",
      "bilstm-crf-elmo: Bidirectional LSTM-CRF w/ Elmo embeddings [English only]\n"
     ]
    }
   ],
   "source": [
    "text.print_sequence_taggers()"
   ]
  },
  {
   "cell_type": "markdown",
   "metadata": {},
   "source": [
    "### Questions sequence_tagger\n",
    "**Inputs**\n",
    "* bert_layers_to_use - indices of hidden layers to use.  default:[-2] # second-to-last layer\n",
    "                              To use the concatenation of last 4 layers: use [-1, -2, -3, -4]\n",
    "  * How are the layers used? \n",
    "  * How many layers we should use? Is there a method how to choose the number of layers?\n",
    "*  fasttext and bert embeddings set by parameters *wv_path_or_url* and *bert_model*\n",
    "  * These word embeddings combined using concatenation. \n",
    "  * Do you combined word embeddings in your NER pipeline? \n",
    "  * If yes, do you further process concatenated word embeddings to remove redundancy, e.g. using PCA, see [merging-two-word-embedding-models](https://stats.stackexchange.com/questions/315272/merging-two-word-embedding-models), [ConceptNet at SemEval-2017 Task 2: Extending Word Embeddings with\n",
    "Multilingual Relational Knowledge\n",
    "](https://arxiv.org/pdf/1704.03560.pdf)"
   ]
  },
  {
   "cell_type": "code",
   "execution_count": 10,
   "metadata": {},
   "outputs": [
    {
     "name": "stderr",
     "output_type": "stream",
     "text": [
      "C:\\apps\\anaconda3\\envs\\base-clone\\lib\\site-packages\\ktrain\\text\\ner\\models.py:122: UserWarning: Setting use_char=False:  character embeddings cannot be used in TF2 due to open TensorFlow 2 bug (#33148).\n",
      "Add os.environ[\"DISABLE_V2_BEHAVIOR\"] = \"1\" to the top of script if you really want to use it.\n",
      "  warnings.warn('Setting use_char=False:  character embeddings cannot be used in TF2 due to open TensorFlow 2 bug (#33148).\\n' +\\\n"
     ]
    },
    {
     "name": "stdout",
     "output_type": "stream",
     "text": [
      "Embedding schemes employed (combined with concatenation):\n",
      "\tword embeddings initialized with fasttext word vectors (cc.en.300.vec)\n",
      "\tBERT embeddings with bert-base-cased\n",
      "\n",
      "pretrained word embeddings will be loaded from:\n",
      "\tc:/Users/kostobog/ktrain_data/cc.en.300.vec\n",
      "loading pretrained word vectors...this may take a few moments...\n"
     ]
    },
    {
     "data": {
      "text/html": [],
      "text/plain": [
       "<IPython.core.display.HTML object>"
      ]
     },
     "metadata": {},
     "output_type": "display_data"
    }
   ],
   "source": [
    "WV_URL = 'https://dl.fbaipublicfiles.com/fasttext/vectors-crawl/cc.en.300.vec.gz'\n",
    "model = text.sequence_tagger('bilstm-bert', preproc, wv_path_or_url=WV_URL, bert_model='bert-base-cased')"
   ]
  },
  {
   "cell_type": "markdown",
   "metadata": {},
   "source": [
    "In the cell above, notice that we suppied the `wv_path_or_url` argument. This directs *ktrain* to initialized word embeddings with one of the pretrained fasttext (word2vec) word vector sets from [Facebook's fastttext site](https://fasttext.cc/docs/en/crawl-vectors.html).   When supplied with a valid URL to a `.vec.gz`, the word vectors will be automatically downloaded, extracted, and loaded in STEP 2 (download location is `<home_directory>/ktrain_data`). To disable pretrained word embeddings, set `wv_path_or_url=None` and randomly initialized word embeddings will be employed. Use of pretrained embeddings will typically boost final accuracy. When used in combination with a model that uses an embedding scheme like BERT (e.g., `bilstm-bert`), the different word embeddings are stacked together using concatenation.\n",
    "\n",
    "Finally, we will wrap our selected model and datasets in a `Learner` object to facilitate training."
   ]
  },
  {
   "cell_type": "markdown",
   "metadata": {},
   "source": [
    "### Questions regarding ktrain.get_learner\n",
    "* batch_size - Can you give us advice on how to properly select the batch_size?"
   ]
  },
  {
   "cell_type": "code",
   "execution_count": 11,
   "metadata": {},
   "outputs": [],
   "source": [
    "learner = ktrain.get_learner(model, train_data=trn, val_data=val, batch_size=32)"
   ]
  },
  {
   "cell_type": "markdown",
   "metadata": {},
   "source": [
    "## STEP 3: Train and Evaluate the Model\n",
    "\n",
    "Here, we will train for a single epoch using an initial learning rate of 0.01 with gradual decay using cosine annealing (via the `cycle_len=1`) parameter and see how well we do. The learning rate of `0.01` is determined with the learning-rate-finder (i.e., `lr_find`)."
   ]
  },
  {
   "cell_type": "code",
   "execution_count": 9,
   "metadata": {},
   "outputs": [
    {
     "name": "stdout",
     "output_type": "stream",
     "text": [
      "simulating training for different learning rates... this may take a few moments...\n",
      "preparing training data ...done.\n",
      "Epoch 1/1024\n",
      "81/81 [==============================] - 454s 6s/step - loss: 0.6274\n",
      "Epoch 2/1024\n",
      "81/81 [==============================] - 438s 5s/step - loss: 0.6203\n",
      "Epoch 3/1024\n",
      "81/81 [==============================] - 442s 5s/step - loss: 0.6024\n",
      "Epoch 4/1024\n",
      "81/81 [==============================] - 444s 5s/step - loss: 0.5653\n",
      "Epoch 5/1024\n",
      "81/81 [==============================] - 447s 6s/step - loss: 0.4872\n",
      "Epoch 6/1024\n",
      "81/81 [==============================] - 446s 5s/step - loss: 0.3587\n",
      "Epoch 7/1024\n",
      "81/81 [==============================] - 443s 5s/step - loss: 0.2225\n",
      "Epoch 8/1024\n",
      "81/81 [==============================] - 445s 5s/step - loss: 0.1556\n",
      "Epoch 9/1024\n",
      "81/81 [==============================] - 461s 6s/step - loss: 0.1244\n",
      "Epoch 10/1024\n",
      "81/81 [==============================] - 441s 5s/step - loss: 0.0980\n",
      "Epoch 11/1024\n",
      "81/81 [==============================] - 433s 5s/step - loss: 0.0633\n",
      "Epoch 12/1024\n",
      "81/81 [==============================] - 423s 5s/step - loss: 0.0322\n",
      "Epoch 13/1024\n",
      "81/81 [==============================] - 433s 5s/step - loss: 0.0215\n",
      "Epoch 14/1024\n",
      "81/81 [==============================] - 418s 5s/step - loss: 0.0193\n",
      "Epoch 15/1024\n",
      "81/81 [==============================] - 416s 5s/step - loss: 0.0169\n",
      "Epoch 16/1024\n",
      "81/81 [==============================] - 414s 5s/step - loss: 0.0175\n",
      "Epoch 17/1024\n",
      "81/81 [==============================] - 413s 5s/step - loss: 0.0203\n",
      "Epoch 18/1024\n",
      "81/81 [==============================] - 415s 5s/step - loss: 0.0478\n",
      "Epoch 19/1024\n",
      "81/81 [==============================] - 154s 2s/step - loss: 0.0854\n",
      "\n",
      "\n",
      "done.\n",
      "Please invoke the Learner.lr_plot() method to visually inspect the loss plot to help identify the maximal learning rate associated with falling loss.\n"
     ]
    }
   ],
   "source": [
    "learner.lr_find()"
   ]
  },
  {
   "cell_type": "code",
   "execution_count": 10,
   "metadata": {
    "scrolled": false
   },
   "outputs": [
    {
     "data": {
      "image/png": "[encoded data removed]",
      "text/plain": [
       "<Figure size 432x288 with 1 Axes>"
      ]
     },
     "metadata": {
      "needs_background": "light"
     },
     "output_type": "display_data"
    }
   ],
   "source": [
    "learner.lr_plot()"
   ]
  },
  {
   "cell_type": "markdown",
   "metadata": {},
   "source": [
    "### Questions regarding learning rate (LR) selection\n",
    "Consider the graph above. Is it ok to select LR of 0.02? Is the loss increasing between 1e-7 and 1e-6 indicatoin to select a lower learning rate?"
   ]
  },
  {
   "cell_type": "code",
   "execution_count": 11,
   "metadata": {},
   "outputs": [
    {
     "name": "stdout",
     "output_type": "stream",
     "text": [
      "preparing validation data ...done.\n",
      "82/82 [==============================] - 477s 6s/step - loss: 0.0712 - val_loss: 0.0344\n"
     ]
    },
    {
     "data": {
      "text/plain": [
       "<tensorflow.python.keras.callbacks.History at 0x211cf9e04c0>"
      ]
     },
     "execution_count": 11,
     "metadata": {},
     "output_type": "execute_result"
    }
   ],
   "source": [
    "learner.fit(1e-2, 1, cycle_len=1)"
   ]
  },
  {
   "cell_type": "code",
   "execution_count": 12,
   "metadata": {
    "scrolled": true
   },
   "outputs": [
    {
     "name": "stdout",
     "output_type": "stream",
     "text": [
      "   F1:  72.39\n",
      "              precision    recall  f1-score   support\n",
      "\n",
      "   component       0.75      0.71      0.73       272\n",
      "        null       0.00      0.00      0.00         4\n",
      "\n",
      "   micro avg       0.75      0.70      0.72       276\n",
      "   macro avg       0.37      0.36      0.36       276\n",
      "weighted avg       0.74      0.70      0.72       276\n",
      "\n"
     ]
    },
    {
     "data": {
      "text/plain": [
       "0.7238805970149254"
      ]
     },
     "execution_count": 12,
     "metadata": {},
     "output_type": "execute_result"
    }
   ],
   "source": [
    "learner.validate()"
   ]
  },
  {
   "cell_type": "markdown",
   "metadata": {},
   "source": [
    "Our F1-score is **84.19** after a single pass through the dataset. Not bad for a single epoch of training."
   ]
  },
  {
   "cell_type": "markdown",
   "metadata": {},
   "source": [
    "Let's invoke `view_top_losses` to see the sentence we got the most wrong. This single sentence about James Brown contains 10 words that are misclassified.  We can see here that our model has trouble with titles of songs. In addition, some of the ground truth labels for this example are sketchy and incomplete, which also makes things difficult."
   ]
  },
  {
   "cell_type": "code",
   "execution_count": 13,
   "metadata": {},
   "outputs": [
    {
     "name": "stdout",
     "output_type": "stream",
     "text": [
      "total incorrect: 5\n",
      "Word            True : (Pred)\n",
      "==============================\n",
      "In             :O     (O)\n",
      "case           :O     (O)\n",
      "of             :O     (O)\n",
      "an             :O     (O)\n",
      "internal       :O     (O)\n",
      "error          :O     (O)\n",
      "during         :O     (O)\n",
      "operation      :O     (O)\n",
      "or             :O     (O)\n",
      "the            :O     (O)\n",
      "loss           :O     (O)\n",
      "of             :O     (O)\n",
      "a              :O     (O)\n",
      "sensor         :B-component (B-component)\n",
      "signal         :O     (O)\n",
      "the            :O     (O)\n",
      "system         :O     (O)\n",
      "automatically  :O     (O)\n",
      "switches       :B-component (O)\n",
      "to             :O     (O)\n",
      "ECU            :B-component (B-component)\n",
      "B              :I-component (O)\n",
      ".              :O     (O)\n",
      "If             :O     (O)\n",
      "the            :O     (O)\n",
      "loss           :O     (O)\n",
      "of             :O     (O)\n",
      "the            :O     (O)\n",
      "sensor         :B-component (B-component)\n",
      "signal         :O     (O)\n",
      "was            :O     (O)\n",
      "the            :O     (O)\n",
      "cause          :O     (O)\n",
      "for            :O     (O)\n",
      "the            :O     (O)\n",
      "error          :O     (O)\n",
      ",              :O     (O)\n",
      "the            :O     (O)\n",
      "system         :O     (O)\n",
      "automatically  :O     (O)\n",
      "switches       :B-component (O)\n",
      "back           :O     (O)\n",
      "to             :O     (O)\n",
      "ECU            :B-component (B-component)\n",
      "A              :I-component (O)\n",
      ".              :O     (O)\n",
      "A              :O     (O)\n",
      "fault          :O     (O)\n",
      "in             :O     (O)\n",
      "one            :O     (O)\n",
      "of             :O     (O)\n",
      "the            :O     (O)\n",
      "ECUs           :O     (O)\n",
      "is             :O     (O)\n",
      "indicated      :O     (O)\n",
      "by             :O     (O)\n",
      "a              :O     (O)\n",
      "caution        :O     (O)\n",
      "message        :O     (O)\n",
      "on             :O     (O)\n",
      "the            :O     (O)\n",
      "PFD            :B-component (B-component)\n",
      "(              :O     (O)\n",
      "L              :O     (O)\n",
      "/              :O     (O)\n",
      "R              :O     (O)\n",
      "ECU            :B-component (B-component)\n",
      "A              :I-component (O)\n",
      "/              :O     (O)\n",
      "B              :O     (O)\n",
      "FAIL           :O     (O)\n",
      ")              :O     (O)\n",
      ".              :O     (O)\n",
      "\n",
      "\n"
     ]
    }
   ],
   "source": [
    "learner.view_top_losses(n=1)"
   ]
  },
  {
   "cell_type": "markdown",
   "metadata": {},
   "source": [
    "## Making Predictions on New Sentences\n",
    "\n",
    "Let's use our model to extract entities from new sentences. We begin by instantating a `Predictor` object."
   ]
  },
  {
   "cell_type": "code",
   "execution_count": 61,
   "metadata": {},
   "outputs": [],
   "source": [
    "predictor = ktrain.get_predictor(learner.model, preproc)"
   ]
  },
  {
   "cell_type": "code",
   "execution_count": 93,
   "metadata": {},
   "outputs": [
    {
     "data": {
      "text/plain": [
       "[('A', 'O'),\n",
       " ('rod', 'B-component'),\n",
       " ('end', 'O'),\n",
       " ('bearing', 'I-component'),\n",
       " ('is', 'O'),\n",
       " ('screwed', 'O'),\n",
       " ('into', 'O'),\n",
       " ('a', 'O'),\n",
       " ('steel', 'B-component'),\n",
       " ('push', 'O'),\n",
       " ('rod', 'I-component'),\n",
       " ('and', 'O'),\n",
       " ('locked', 'O'),\n",
       " ('by', 'O'),\n",
       " ('means', 'O'),\n",
       " ('of', 'O'),\n",
       " ('a', 'O'),\n",
       " ('jam', 'B-component'),\n",
       " ('nut', 'I-component'),\n",
       " ('which', 'O'),\n",
       " ('has', 'O'),\n",
       " ('locking', 'O'),\n",
       " ('varnish', 'O'),\n",
       " ('applied', 'O'),\n",
       " ('to', 'O'),\n",
       " ('it', 'O'),\n",
       " ('.', 'O')]"
      ]
     },
     "execution_count": 93,
     "metadata": {},
     "output_type": "execute_result"
    }
   ],
   "source": [
    "predictor.predict('A rod end bearing is screwed into a steel push rod and locked by means of a jam nut which has locking varnish applied to it.')"
   ]
  },
  {
   "cell_type": "markdown",
   "metadata": {},
   "source": [
    "We can save the predictor for later deployment."
   ]
  },
  {
   "cell_type": "code",
   "execution_count": 18,
   "metadata": {},
   "outputs": [],
   "source": [
    "predictor.save('/tmp/mypred')"
   ]
  },
  {
   "cell_type": "code",
   "execution_count": 19,
   "metadata": {},
   "outputs": [
    {
     "name": "stderr",
     "output_type": "stream",
     "text": [
      "C:\\apps\\anaconda3\\envs\\base-clone\\lib\\site-packages\\tensorflow\\python\\keras\\engine\\training.py:2426: UserWarning: `Model.state_updates` will be removed in a future version. This property should not be used in TensorFlow 2.0, as `updates` are applied automatically.\n",
      "  warnings.warn('`Model.state_updates` will be removed in a future version. '\n"
     ]
    }
   ],
   "source": [
    "reloaded_predictor = ktrain.load_predictor('/tmp/mypred')"
   ]
  },
  {
   "cell_type": "markdown",
   "metadata": {},
   "source": [
    "The `predict` method also can accept a list of sentences.  And, larger batch sizes can potentially speed predictions when `predictor.predict` is supplied with a list of examples.\n",
    "\n",
    "Both the `load_predictor` and `get_predictor` functions accept an optional `batch_size` argument used for predictions, which is set to 32 by default. The `batch_size` can also be set manually on the `Predictor` instance.  That is, the `batch_size` used for inference and predictions can be increased with either of the following:\n",
    "```python\n",
    "# you can set the batch_size as an argument to load_predictor (or get_predictor)\n",
    "predictor = ktrain.load_predictor('/tmp/mypred', batch_size=128)\n",
    "\n",
    "# you can also set the batch_size used for predictions this way\n",
    "predictor.batch_size = 128\n",
    "```\n"
   ]
  }
 ],
 "metadata": {
  "kernelspec": {
   "display_name": "Python 3",
   "language": "python",
   "name": "python3"
  },
  "language_info": {
   "codemirror_mode": {
    "name": "ipython",
    "version": 3
   },
   "file_extension": ".py",
   "mimetype": "text/x-python",
   "name": "python",
   "nbconvert_exporter": "python",
   "pygments_lexer": "ipython3",
   "version": "3.8.8"
  }
 },
 "nbformat": 4,
 "nbformat_minor": 2
}
